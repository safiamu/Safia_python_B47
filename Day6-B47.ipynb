{
 "cells": [
  {
   "cell_type": "code",
   "execution_count": null,
   "id": "59ef1c72",
   "metadata": {},
   "outputs": [],
   "source": [
    "stu=['rav','grace','naveen','sameer','keerthi']"
   ]
  },
  {
   "cell_type": "code",
   "execution_count": 8,
   "id": "9a72e752",
   "metadata": {},
   "outputs": [
    {
     "name": "stdout",
     "output_type": "stream",
     "text": [
      "Keep it up {'Rav'}\n"
     ]
    }
   ],
   "source": [
    "# appriciating a student\n",
    "stu=['rav','grace','naveen','sameer','keerthi']\n",
    "print(f\"Keep it up\",{stu[0].title()})"
   ]
  },
  {
   "cell_type": "code",
   "execution_count": 10,
   "id": "bc3e6fc9",
   "metadata": {},
   "outputs": [
    {
     "name": "stdout",
     "output_type": "stream",
     "text": [
      "keep it up ['Grace']\n"
     ]
    }
   ],
   "source": [
    "print(f\"keep it up\",[stu[1].title()])"
   ]
  },
  {
   "cell_type": "code",
   "execution_count": 14,
   "id": "077d61cd",
   "metadata": {},
   "outputs": [
    {
     "name": "stdout",
     "output_type": "stream",
     "text": [
      "good work {'Rav'}\n",
      "good work {'Grace'}\n",
      "good work {'Naveen'}\n",
      "good work {'Sameer'}\n",
      "good work {'Keerthi'}\n"
     ]
    }
   ],
   "source": [
    "#Looping statement\n",
    "#for loop\n",
    "for x in stu:\n",
    "    print(f\"good work\",{x.title()})"
   ]
  },
  {
   "cell_type": "code",
   "execution_count": 18,
   "id": "7f687201",
   "metadata": {
    "scrolled": true
   },
   "outputs": [
    {
     "name": "stdout",
     "output_type": "stream",
     "text": [
      "wellcome to vodafone Rav\n",
      "\n",
      "wellcome to vodafone Grace\n",
      "\n",
      "wellcome to vodafone Naveen\n",
      "\n",
      "wellcome to vodafone Sameer\n",
      "\n",
      "wellcome to vodafone Keerthi\n",
      "\n"
     ]
    }
   ],
   "source": [
    "# I want to convey the message to all student\n",
    "#inside the loop\n",
    "for a in stu:\n",
    "    print(f\"wellcome to vodafone {a.title()}\\n\")"
   ]
  },
  {
   "cell_type": "code",
   "execution_count": 20,
   "id": "e5125f54",
   "metadata": {},
   "outputs": [
    {
     "name": "stdout",
     "output_type": "stream",
     "text": [
      "wellcome to vodafone Rav\n",
      "\n",
      "wellcome to vodafone Grace\n",
      "\n",
      "wellcome to vodafone Naveen\n",
      "\n",
      "wellcome to vodafone Sameer\n",
      "\n",
      "wellcome to vodafone Keerthi\n",
      "\n",
      "Thank you\n"
     ]
    }
   ],
   "source": [
    "# outside the loop\n",
    "for a in stu:\n",
    "    print(f\"wellcome to vodafone {a.title()}\\n\")\n",
    "print(\"Thank you\")"
   ]
  },
  {
   "cell_type": "code",
   "execution_count": null,
   "id": "7130e5cd",
   "metadata": {},
   "outputs": [],
   "source": []
  }
 ],
 "metadata": {
  "kernelspec": {
   "display_name": "Python 3",
   "language": "python",
   "name": "python3"
  },
  "language_info": {
   "codemirror_mode": {
    "name": "ipython",
    "version": 3
   },
   "file_extension": ".py",
   "mimetype": "text/x-python",
   "name": "python",
   "nbconvert_exporter": "python",
   "pygments_lexer": "ipython3",
   "version": "3.8.8"
  }
 },
 "nbformat": 4,
 "nbformat_minor": 5
}
