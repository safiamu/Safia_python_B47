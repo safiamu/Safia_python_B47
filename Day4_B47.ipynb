{
 "cells": [
  {
   "cell_type": "code",
   "execution_count": null,
   "id": "0b1c8621",
   "metadata": {},
   "outputs": [],
   "source": [
    "#introduction to List datatypes"
   ]
  },
  {
   "cell_type": "code",
   "execution_count": 13,
   "id": "5a4bd076",
   "metadata": {},
   "outputs": [
    {
     "name": "stdout",
     "output_type": "stream",
     "text": [
      "['Arun', 'Usha', 'Asha', 'kiran', 'Sandeep']\n"
     ]
    }
   ],
   "source": [
    "stu= ['Arun','Usha','Asha','kiran','Sandeep']\n",
    "\n",
    "print(stu)\n"
   ]
  },
  {
   "cell_type": "code",
   "execution_count": 10,
   "id": "c028ef37",
   "metadata": {},
   "outputs": [
    {
     "name": "stdout",
     "output_type": "stream",
     "text": [
      "{'Usha', 'Arun', 'Asha', 'Sandeep', 'kiran'}\n"
     ]
    }
   ],
   "source": [
    "print(stu)"
   ]
  },
  {
   "cell_type": "code",
   "execution_count": 3,
   "id": "aaf87ed3",
   "metadata": {},
   "outputs": [
    {
     "data": {
      "text/plain": [
       "list"
      ]
     },
     "execution_count": 3,
     "metadata": {},
     "output_type": "execute_result"
    }
   ],
   "source": [
    "type(stu)\n"
   ]
  },
  {
   "cell_type": "code",
   "execution_count": 14,
   "id": "3858b329",
   "metadata": {},
   "outputs": [
    {
     "name": "stdout",
     "output_type": "stream",
     "text": [
      "Usha\n"
     ]
    }
   ],
   "source": [
    "# how to access elements from the List\n",
    "print(stu[1])"
   ]
  },
  {
   "cell_type": "code",
   "execution_count": 16,
   "id": "ea9e4399",
   "metadata": {},
   "outputs": [
    {
     "name": "stdout",
     "output_type": "stream",
     "text": [
      "Kiran\n"
     ]
    }
   ],
   "source": [
    "print(stu[3].title())"
   ]
  },
  {
   "cell_type": "code",
   "execution_count": 17,
   "id": "56cefa3f",
   "metadata": {},
   "outputs": [
    {
     "name": "stdout",
     "output_type": "stream",
     "text": [
      "['Arun', 'Usha', 'Asha', 'kiran', 'Sandeep', 'Prasad']\n"
     ]
    }
   ],
   "source": [
    "# I want to add a name to the list\n",
    "stu.append(\"Prasad\")\n",
    "print(stu)"
   ]
  },
  {
   "cell_type": "code",
   "execution_count": 20,
   "id": "cf539e5d",
   "metadata": {},
   "outputs": [],
   "source": [
    "# adding new element, modifying and deleting element\n",
    "# adding\n",
    "stu.append(\"Rajini\")\n"
   ]
  },
  {
   "cell_type": "code",
   "execution_count": 31,
   "id": "ee8f9cb4",
   "metadata": {},
   "outputs": [
    {
     "name": "stdout",
     "output_type": "stream",
     "text": [
      "['ram', 'Usha', 'kiran', 'Sandeep', 'Prasad', 'Rajini', 'Rajini', 'Rajini']\n"
     ]
    }
   ],
   "source": [
    "print(stu)"
   ]
  },
  {
   "cell_type": "code",
   "execution_count": 26,
   "id": "27faaf65",
   "metadata": {},
   "outputs": [
    {
     "name": "stdout",
     "output_type": "stream",
     "text": [
      "['ram', 'Usha', 'Asha', 'kiran', 'Sandeep', 'Prasad', 'Rajini', 'Rajini', 'Rajini']\n"
     ]
    }
   ],
   "source": [
    "#modifying\n",
    "stu[0]= \"ram\"\n",
    "print(stu)"
   ]
  },
  {
   "cell_type": "code",
   "execution_count": 27,
   "id": "cd1e0d56",
   "metadata": {},
   "outputs": [
    {
     "name": "stdout",
     "output_type": "stream",
     "text": [
      "['ram', 'Usha', 'Asha', 'kiran', 'Sandeep', 'Prasad', 'Rajini', 'Rajini', 'Rajini']\n"
     ]
    }
   ],
   "source": [
    "print(stu)"
   ]
  },
  {
   "cell_type": "code",
   "execution_count": 28,
   "id": "877bbb8e",
   "metadata": {},
   "outputs": [
    {
     "name": "stdout",
     "output_type": "stream",
     "text": [
      "['ram', 'Usha', 'rafi', 'kiran', 'Sandeep', 'Prasad', 'Rajini', 'Rajini', 'Rajini']\n"
     ]
    }
   ],
   "source": [
    "# modifying 3rd name\n",
    "stu[2]='rafi'\n",
    "print(stu)"
   ]
  },
  {
   "cell_type": "code",
   "execution_count": 30,
   "id": "837acf30",
   "metadata": {},
   "outputs": [
    {
     "name": "stdout",
     "output_type": "stream",
     "text": [
      "['ram', 'Usha', 'kiran', 'Sandeep', 'Prasad', 'Rajini', 'Rajini', 'Rajini']\n"
     ]
    }
   ],
   "source": [
    "#deleting 3rd name\n",
    "del stu[2]\n",
    "print(stu)"
   ]
  },
  {
   "cell_type": "code",
   "execution_count": 32,
   "id": "674b3584",
   "metadata": {},
   "outputs": [
    {
     "name": "stdout",
     "output_type": "stream",
     "text": [
      "['ram', 'Usha', 'kiran', 'Sandeep', 'Prasad', 'Rajini', 'Rajini']\n"
     ]
    }
   ],
   "source": [
    "del stu[5]\n",
    "print(stu)"
   ]
  },
  {
   "cell_type": "code",
   "execution_count": 33,
   "id": "d480accc",
   "metadata": {},
   "outputs": [
    {
     "name": "stdout",
     "output_type": "stream",
     "text": [
      "['ram', 'Usha', 'kiran', 'Sandeep', 'Prasad', 'Rajini']\n"
     ]
    }
   ],
   "source": [
    "del stu[5]\n",
    "print(stu)"
   ]
  },
  {
   "cell_type": "code",
   "execution_count": 35,
   "id": "de9431dc",
   "metadata": {},
   "outputs": [
    {
     "name": "stdout",
     "output_type": "stream",
     "text": [
      "['ram', 'Usha', 'kiran', 'Rajini']\n"
     ]
    }
   ],
   "source": [
    "del stu[3]\n",
    "print(stu)\n"
   ]
  },
  {
   "cell_type": "code",
   "execution_count": 36,
   "id": "6f658bed",
   "metadata": {},
   "outputs": [
    {
     "name": "stdout",
     "output_type": "stream",
     "text": [
      "['ram', 'Usha', 'kiran']\n"
     ]
    }
   ],
   "source": [
    "x=stu.pop()\n",
    "print(stu)\n"
   ]
  },
  {
   "cell_type": "code",
   "execution_count": 37,
   "id": "38f33ddd",
   "metadata": {},
   "outputs": [
    {
     "name": "stdout",
     "output_type": "stream",
     "text": [
      "Rajini\n"
     ]
    }
   ],
   "source": [
    "print(x)"
   ]
  },
  {
   "cell_type": "code",
   "execution_count": null,
   "id": "9cdea0fb",
   "metadata": {},
   "outputs": [],
   "source": []
  }
 ],
 "metadata": {
  "kernelspec": {
   "display_name": "Python 3",
   "language": "python",
   "name": "python3"
  },
  "language_info": {
   "codemirror_mode": {
    "name": "ipython",
    "version": 3
   },
   "file_extension": ".py",
   "mimetype": "text/x-python",
   "name": "python",
   "nbconvert_exporter": "python",
   "pygments_lexer": "ipython3",
   "version": "3.8.8"
  }
 },
 "nbformat": 4,
 "nbformat_minor": 5
}
