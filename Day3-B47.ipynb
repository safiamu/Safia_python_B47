{
 "cells": [
  {
   "cell_type": "code",
   "execution_count": null,
   "id": "f27eadcb",
   "metadata": {},
   "outputs": [],
   "source": [
    "#introduction to string "
   ]
  },
  {
   "cell_type": "code",
   "execution_count": 1,
   "id": "5cff8948",
   "metadata": {},
   "outputs": [
    {
     "name": "stdout",
     "output_type": "stream",
     "text": [
      "John\n"
     ]
    }
   ],
   "source": [
    "name=('John')\n",
    "print(name)"
   ]
  },
  {
   "cell_type": "code",
   "execution_count": 2,
   "id": "c86a88cb",
   "metadata": {},
   "outputs": [
    {
     "name": "stdout",
     "output_type": "stream",
     "text": [
      "safia Ummar\n"
     ]
    }
   ],
   "source": [
    "#introduction to string method\n",
    "Full_name=('safia Ummar')\n",
    "print(Full_name)"
   ]
  },
  {
   "cell_type": "code",
   "execution_count": 3,
   "id": "662994b6",
   "metadata": {},
   "outputs": [
    {
     "name": "stdout",
     "output_type": "stream",
     "text": [
      "Safia Ummar\n"
     ]
    }
   ],
   "source": [
    "#introduction to string method\n",
    "Full_name=('safia Ummar')\n",
    "print(Full_name.title())"
   ]
  },
  {
   "cell_type": "code",
   "execution_count": 4,
   "id": "43dfec12",
   "metadata": {},
   "outputs": [
    {
     "name": "stdout",
     "output_type": "stream",
     "text": [
      "SAFIA UMMAR\n"
     ]
    }
   ],
   "source": [
    "print(Full_name.upper())"
   ]
  },
  {
   "cell_type": "code",
   "execution_count": 5,
   "id": "964c7028",
   "metadata": {},
   "outputs": [
    {
     "name": "stdout",
     "output_type": "stream",
     "text": [
      "safia ummar\n"
     ]
    }
   ],
   "source": [
    "print(Full_name.lower())"
   ]
  },
  {
   "cell_type": "code",
   "execution_count": 14,
   "id": "44ecfcf7",
   "metadata": {},
   "outputs": [
    {
     "name": "stdout",
     "output_type": "stream",
     "text": [
      "Ghalib hussain\n"
     ]
    }
   ],
   "source": [
    "#introduction to f string\n",
    "firstname='Ghalib'\n",
    "lastname='hussain'\n",
    "fullname= f\"{firstname} {lastname}\"\n",
    "print(fullname)"
   ]
  },
  {
   "cell_type": "code",
   "execution_count": 15,
   "id": "74ff4ecd",
   "metadata": {},
   "outputs": [
    {
     "name": "stdout",
     "output_type": "stream",
     "text": [
      "great work Ghalib Hussain\n"
     ]
    }
   ],
   "source": [
    "print(f\"great work\",fullname.title())"
   ]
  },
  {
   "cell_type": "code",
   "execution_count": 16,
   "id": "e3c56b7b",
   "metadata": {},
   "outputs": [
    {
     "name": "stdout",
     "output_type": "stream",
     "text": [
      "My favorite food\n",
      " halwa\n",
      " jamoon\n",
      " rasagulla\n"
     ]
    }
   ],
   "source": [
    "#Adding whitespace to string\n",
    "print(\"My favorite food\\n halwa\\n jamoon\\n rasagulla\")"
   ]
  },
  {
   "cell_type": "code",
   "execution_count": 17,
   "id": "97a71f2d",
   "metadata": {},
   "outputs": [
    {
     "name": "stdout",
     "output_type": "stream",
     "text": [
      "My favorite food\n",
      " halwa\t jamoon\t rasagulla\n"
     ]
    }
   ],
   "source": [
    "print(\"My favorite food\\n halwa\\t jamoon\\t rasagulla\")"
   ]
  },
  {
   "cell_type": "code",
   "execution_count": null,
   "id": "6624d98b",
   "metadata": {},
   "outputs": [],
   "source": []
  }
 ],
 "metadata": {
  "kernelspec": {
   "display_name": "Python 3",
   "language": "python",
   "name": "python3"
  },
  "language_info": {
   "codemirror_mode": {
    "name": "ipython",
    "version": 3
   },
   "file_extension": ".py",
   "mimetype": "text/x-python",
   "name": "python",
   "nbconvert_exporter": "python",
   "pygments_lexer": "ipython3",
   "version": "3.8.8"
  }
 },
 "nbformat": 4,
 "nbformat_minor": 5
}
