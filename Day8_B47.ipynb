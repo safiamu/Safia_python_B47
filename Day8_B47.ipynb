{
 "cells": [
  {
   "cell_type": "code",
   "execution_count": 1,
   "id": "949170dd",
   "metadata": {},
   "outputs": [
    {
     "name": "stdout",
     "output_type": "stream",
     "text": [
      "('safia', 'venki', 'namitha', 'sharadha', 'neha', 'Bharathi')\n"
     ]
    }
   ],
   "source": [
    "# tuple datatype\n",
    "stu=('safia', 'venki','namitha','sharadha','neha','Bharathi')\n",
    "print(stu)"
   ]
  },
  {
   "cell_type": "code",
   "execution_count": 2,
   "id": "3b095e4c",
   "metadata": {},
   "outputs": [
    {
     "data": {
      "text/plain": [
       "tuple"
      ]
     },
     "execution_count": 2,
     "metadata": {},
     "output_type": "execute_result"
    }
   ],
   "source": [
    "type(stu)"
   ]
  },
  {
   "cell_type": "code",
   "execution_count": 5,
   "id": "35629560",
   "metadata": {},
   "outputs": [
    {
     "name": "stdout",
     "output_type": "stream",
     "text": [
      "(250, 50)\n"
     ]
    }
   ],
   "source": [
    "dimention=(250,50)\n",
    "print(dimention)"
   ]
  },
  {
   "cell_type": "code",
   "execution_count": 7,
   "id": "6d4c04a7",
   "metadata": {},
   "outputs": [
    {
     "name": "stdout",
     "output_type": "stream",
     "text": [
      "(300, 50)\n"
     ]
    }
   ],
   "source": [
    "# I want ot change this dimention 250 to 300\n",
    "\n",
    "dimension=(300,50)\n",
    "print(dimension)"
   ]
  },
  {
   "cell_type": "code",
   "execution_count": 9,
   "id": "7c3f98bb",
   "metadata": {},
   "outputs": [
    {
     "name": "stdout",
     "output_type": "stream",
     "text": [
      "(300, 60)\n"
     ]
    }
   ],
   "source": [
    "# need  to declare newly\n",
    "dimention=(300, 60)\n",
    "print(dimention)"
   ]
  },
  {
   "cell_type": "code",
   "execution_count": 10,
   "id": "ac585d8a",
   "metadata": {},
   "outputs": [
    {
     "name": "stdout",
     "output_type": "stream",
     "text": [
      "('safia', 'venki', 'namitha', 'sharadha', 'neha', 'Bharathi')\n"
     ]
    }
   ],
   "source": [
    "print(stu)"
   ]
  },
  {
   "cell_type": "code",
   "execution_count": 11,
   "id": "123b1011",
   "metadata": {},
   "outputs": [
    {
     "name": "stdout",
     "output_type": "stream",
     "text": [
      "namitha\n"
     ]
    }
   ],
   "source": [
    "print(stu[2])"
   ]
  },
  {
   "cell_type": "code",
   "execution_count": 12,
   "id": "59249464",
   "metadata": {},
   "outputs": [
    {
     "name": "stdout",
     "output_type": "stream",
     "text": [
      "safia\n"
     ]
    }
   ],
   "source": [
    "print(stu[0])"
   ]
  },
  {
   "cell_type": "code",
   "execution_count": 13,
   "id": "30ee0403",
   "metadata": {},
   "outputs": [
    {
     "name": "stdout",
     "output_type": "stream",
     "text": [
      "Neha\n"
     ]
    }
   ],
   "source": [
    "print(stu[4].title())"
   ]
  },
  {
   "cell_type": "code",
   "execution_count": 14,
   "id": "45648ca6",
   "metadata": {},
   "outputs": [
    {
     "name": "stdout",
     "output_type": "stream",
     "text": [
      "safia\n",
      "venki\n",
      "namitha\n",
      "sharadha\n",
      "neha\n",
      "Bharathi\n"
     ]
    }
   ],
   "source": [
    "for x in stu:\n",
    "    print(x)"
   ]
  },
  {
   "cell_type": "code",
   "execution_count": 23,
   "id": "3487238d",
   "metadata": {},
   "outputs": [
    {
     "name": "stdout",
     "output_type": "stream",
     "text": [
      "{'username': 'abc', 'FirstName': 'neha', 'Lastname': 'kakkar', 'pw': '4321', 'DOB': '01-01-1990'}\n"
     ]
    }
   ],
   "source": [
    "#dictionaries\n",
    "# Mutable data types\n",
    "#its combinationation of Key and Values\n",
    "User={'username':'abc','FirstName':'neha','Lastname':'kakkar','pw':'4321','DOB':'01-01-1990'}\n",
    "print(User)"
   ]
  },
  {
   "cell_type": "code",
   "execution_count": 28,
   "id": "0808a70a",
   "metadata": {},
   "outputs": [
    {
     "name": "stdout",
     "output_type": "stream",
     "text": [
      "abc\n"
     ]
    }
   ],
   "source": [
    "#how to access values from dictionaries\n",
    "#I want know the username\n",
    "print(User['username'])"
   ]
  },
  {
   "cell_type": "code",
   "execution_count": 32,
   "id": "f89b6ba7",
   "metadata": {},
   "outputs": [
    {
     "name": "stdout",
     "output_type": "stream",
     "text": [
      "Kakkar\n"
     ]
    }
   ],
   "source": [
    "# print the last name\n",
    "print(User['Lastname'].title())"
   ]
  },
  {
   "cell_type": "code",
   "execution_count": null,
   "id": "fcf97521",
   "metadata": {},
   "outputs": [],
   "source": []
  }
 ],
 "metadata": {
  "kernelspec": {
   "display_name": "Python 3",
   "language": "python",
   "name": "python3"
  },
  "language_info": {
   "codemirror_mode": {
    "name": "ipython",
    "version": 3
   },
   "file_extension": ".py",
   "mimetype": "text/x-python",
   "name": "python",
   "nbconvert_exporter": "python",
   "pygments_lexer": "ipython3",
   "version": "3.8.8"
  }
 },
 "nbformat": 4,
 "nbformat_minor": 5
}
