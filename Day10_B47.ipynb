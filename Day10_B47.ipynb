{
 "cells": [
  {
   "cell_type": "code",
   "execution_count": 1,
   "id": "ccecce6b",
   "metadata": {},
   "outputs": [
    {
     "data": {
      "text/plain": [
       "dict"
      ]
     },
     "execution_count": 1,
     "metadata": {},
     "output_type": "execute_result"
    }
   ],
   "source": [
    "# implimentation of for loop top of a dictionary\n",
    "\n",
    "user={'username':'B47','fname':'Safia','Lname':'ummar','pwd':'4321','dob':'01-01-1990'}\n",
    "type(user)\n"
   ]
  },
  {
   "cell_type": "code",
   "execution_count": 2,
   "id": "2310ac52",
   "metadata": {},
   "outputs": [
    {
     "name": "stdout",
     "output_type": "stream",
     "text": [
      "{'username': 'B47', 'fname': 'Safia', 'Lname': 'ummar', 'pwd': '4321', 'dob': '01-01-1990'}\n"
     ]
    }
   ],
   "source": [
    "print(user)"
   ]
  },
  {
   "cell_type": "code",
   "execution_count": 6,
   "id": "034f5a09",
   "metadata": {},
   "outputs": [
    {
     "name": "stdout",
     "output_type": "stream",
     "text": [
      "username\n",
      "B47\n",
      "fname\n",
      "Safia\n",
      "Lname\n",
      "ummar\n",
      "pwd\n",
      "4321\n",
      "dob\n",
      "01-01-1990\n"
     ]
    }
   ],
   "source": [
    "# for loop syntax for temvar1, tempvar2 in main variable\n",
    "for x,y in user.items():\n",
    "    print(x)\n",
    "    print(y)"
   ]
  },
  {
   "cell_type": "code",
   "execution_count": 11,
   "id": "cabe5296",
   "metadata": {},
   "outputs": [
    {
     "name": "stdout",
     "output_type": "stream",
     "text": [
      "Key:dob\n",
      "Value:01-01-1990\n"
     ]
    }
   ],
   "source": [
    "print(f\"Key:{x}\")\n",
    "print(f\"Value:{y}\")"
   ]
  },
  {
   "cell_type": "code",
   "execution_count": 13,
   "id": "656fc056",
   "metadata": {},
   "outputs": [
    {
     "name": "stdout",
     "output_type": "stream",
     "text": [
      "Key:username\n",
      "Value:B47\n",
      "\n",
      "Key:fname\n",
      "Value:Safia\n",
      "\n",
      "Key:Lname\n",
      "Value:ummar\n",
      "\n",
      "Key:pwd\n",
      "Value:4321\n",
      "\n",
      "Key:dob\n",
      "Value:01-01-1990\n",
      "\n"
     ]
    }
   ],
   "source": [
    "for x,y in user.items():\n",
    " print(f\"Key:{x}\")\n",
    " print(f\"Value:{y}\\n\")   "
   ]
  },
  {
   "cell_type": "code",
   "execution_count": 14,
   "id": "52663ccb",
   "metadata": {},
   "outputs": [
    {
     "name": "stdout",
     "output_type": "stream",
     "text": [
      "{'username'}\n",
      "{'fname'}\n",
      "{'Lname'}\n",
      "{'pwd'}\n",
      "{'dob'}\n"
     ]
    }
   ],
   "source": [
    "# only i want print the details\n",
    "for x in user.keys():\n",
    " print({x})\n"
   ]
  },
  {
   "cell_type": "code",
   "execution_count": 15,
   "id": "da971a0b",
   "metadata": {},
   "outputs": [
    {
     "name": "stdout",
     "output_type": "stream",
     "text": [
      "{'B47'}\n",
      "{'Safia'}\n",
      "{'ummar'}\n",
      "{'4321'}\n",
      "{'01-01-1990'}\n"
     ]
    }
   ],
   "source": [
    "for y in user.values():\n",
    "    print({y})"
   ]
  },
  {
   "cell_type": "code",
   "execution_count": 16,
   "id": "5366ffe8",
   "metadata": {},
   "outputs": [
    {
     "name": "stdout",
     "output_type": "stream",
     "text": [
      "B47\n",
      "Safia\n",
      "ummar\n",
      "4321\n",
      "01-01-1990\n"
     ]
    }
   ],
   "source": [
    "for y in user.values():\n",
    "    print(y)"
   ]
  },
  {
   "cell_type": "code",
   "execution_count": 21,
   "id": "98f0ce06",
   "metadata": {},
   "outputs": [
    {
     "name": "stdout",
     "output_type": "stream",
     "text": [
      "username\n",
      "B47\n",
      "\n",
      "\n",
      "fname\n",
      "Safia\n",
      "\n",
      "\n",
      "Lname\n",
      "ummar\n",
      "\n",
      "\n",
      "pwd\n",
      "4321\n",
      "\n",
      "\n",
      "dob\n",
      "01-01-1990\n",
      "\n",
      "\n"
     ]
    }
   ],
   "source": [
    "for x,y in user.items():\n",
    "    print(x)\n",
    "    print(y)\n",
    "    print(\"\\n\")\n"
   ]
  },
  {
   "cell_type": "code",
   "execution_count": null,
   "id": "5640cedd",
   "metadata": {},
   "outputs": [],
   "source": []
  }
 ],
 "metadata": {
  "kernelspec": {
   "display_name": "Python 3",
   "language": "python",
   "name": "python3"
  },
  "language_info": {
   "codemirror_mode": {
    "name": "ipython",
    "version": 3
   },
   "file_extension": ".py",
   "mimetype": "text/x-python",
   "name": "python",
   "nbconvert_exporter": "python",
   "pygments_lexer": "ipython3",
   "version": "3.8.8"
  }
 },
 "nbformat": 4,
 "nbformat_minor": 5
}
