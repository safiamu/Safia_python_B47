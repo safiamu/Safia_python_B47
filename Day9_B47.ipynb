{
 "cells": [
  {
   "cell_type": "code",
   "execution_count": null,
   "id": "2e376619",
   "metadata": {},
   "outputs": [],
   "source": [
    "# introduction to dictionaries\n",
    "# combinationation of of key and values\n",
    "#its mutable datatype"
   ]
  },
  {
   "cell_type": "code",
   "execution_count": 4,
   "id": "4988c46d",
   "metadata": {},
   "outputs": [
    {
     "data": {
      "text/plain": [
       "dict"
      ]
     },
     "execution_count": 4,
     "metadata": {},
     "output_type": "execute_result"
    }
   ],
   "source": [
    "#defining dictionary\n",
    "\n",
    "user= {'username':'abc','pw':'abc','firtstname':'safia','lastname':'ummar'}\n",
    "type(user)"
   ]
  },
  {
   "cell_type": "code",
   "execution_count": 5,
   "id": "f22b52d0",
   "metadata": {},
   "outputs": [
    {
     "name": "stdout",
     "output_type": "stream",
     "text": [
      "{'username': 'abc', 'pw': 'abc', 'firtstname': 'safia', 'lastname': 'ummar'}\n"
     ]
    }
   ],
   "source": [
    "print(user)"
   ]
  },
  {
   "cell_type": "code",
   "execution_count": 10,
   "id": "87a34de4",
   "metadata": {},
   "outputs": [
    {
     "name": "stdout",
     "output_type": "stream",
     "text": [
      "abc\n"
     ]
    }
   ],
   "source": [
    "# Print the username\n",
    "#user= {'username':'abc','pw':'abc','firtstname':'safia','lastname':'ummar'}\n",
    "print(user['username'])"
   ]
  },
  {
   "cell_type": "code",
   "execution_count": 11,
   "id": "4cb63c6d",
   "metadata": {},
   "outputs": [
    {
     "name": "stdout",
     "output_type": "stream",
     "text": [
      "ummar\n"
     ]
    }
   ],
   "source": [
    "print(user['lastname'])"
   ]
  },
  {
   "cell_type": "code",
   "execution_count": 16,
   "id": "e1eeff64",
   "metadata": {},
   "outputs": [
    {
     "name": "stdout",
     "output_type": "stream",
     "text": [
      "Safia\n"
     ]
    }
   ],
   "source": [
    "print(user['firtstname'].title())"
   ]
  },
  {
   "cell_type": "code",
   "execution_count": 17,
   "id": "e7aa7cdc",
   "metadata": {},
   "outputs": [
    {
     "ename": "KeyError",
     "evalue": "'abc'",
     "output_type": "error",
     "traceback": [
      "\u001b[1;31m---------------------------------------------------------------------------\u001b[0m",
      "\u001b[1;31mKeyError\u001b[0m                                  Traceback (most recent call last)",
      "\u001b[1;32m<ipython-input-17-06913c459061>\u001b[0m in \u001b[0;36m<module>\u001b[1;34m\u001b[0m\n\u001b[0;32m      1\u001b[0m \u001b[1;31m#trying give value and get key\u001b[0m\u001b[1;33m\u001b[0m\u001b[1;33m\u001b[0m\u001b[1;33m\u001b[0m\u001b[0m\n\u001b[1;32m----> 2\u001b[1;33m \u001b[0mprint\u001b[0m\u001b[1;33m(\u001b[0m\u001b[0muser\u001b[0m\u001b[1;33m[\u001b[0m\u001b[1;34m'abc'\u001b[0m\u001b[1;33m]\u001b[0m\u001b[1;33m)\u001b[0m\u001b[1;33m\u001b[0m\u001b[1;33m\u001b[0m\u001b[0m\n\u001b[0m",
      "\u001b[1;31mKeyError\u001b[0m: 'abc'"
     ]
    }
   ],
   "source": [
    "#trying give value and get key\n",
    "print(user['abc'])"
   ]
  },
  {
   "cell_type": "code",
   "execution_count": null,
   "id": "126fb475",
   "metadata": {},
   "outputs": [],
   "source": []
  }
 ],
 "metadata": {
  "kernelspec": {
   "display_name": "Python 3",
   "language": "python",
   "name": "python3"
  },
  "language_info": {
   "codemirror_mode": {
    "name": "ipython",
    "version": 3
   },
   "file_extension": ".py",
   "mimetype": "text/x-python",
   "name": "python",
   "nbconvert_exporter": "python",
   "pygments_lexer": "ipython3",
   "version": "3.8.8"
  }
 },
 "nbformat": 4,
 "nbformat_minor": 5
}
