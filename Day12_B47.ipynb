{
 "cells": [
  {
   "cell_type": "code",
   "execution_count": 18,
   "id": "428c0036",
   "metadata": {},
   "outputs": [
    {
     "name": "stdout",
     "output_type": "stream",
     "text": [
      "Enter your age40\n",
      "You are eligible\n"
     ]
    }
   ],
   "source": [
    "#introduction to if else statement\n",
    "# building voting application, as per the age print he is eligible for Vote or not\n",
    "\n",
    "age=input(\"Enter your age\")\n",
    "age=int(age)\n",
    "if age>18:   \n",
    "    print(\"You are eligible\")\n",
    "else:\n",
    "    print(\"Try next year\")\n"
   ]
  },
  {
   "cell_type": "code",
   "execution_count": 20,
   "id": "8119d6dd",
   "metadata": {},
   "outputs": [
    {
     "name": "stdout",
     "output_type": "stream",
     "text": [
      "Enter your age18\n",
      "You are eligible\n"
     ]
    }
   ],
   "source": [
    "age=input(\"Enter your age\")\n",
    "age=int(age)\n",
    "if age>=18:   \n",
    "    print(\"You are eligible\")\n",
    "else:\n",
    "    print(\"Try next year\")"
   ]
  },
  {
   "cell_type": "code",
   "execution_count": 19,
   "id": "cc2072cc",
   "metadata": {},
   "outputs": [
    {
     "name": "stdout",
     "output_type": "stream",
     "text": [
      "Enter the score34\n",
      "Sorry, try again\n"
     ]
    }
   ],
   "source": [
    "#score greater 50 pass else fail \n",
    "score=int(input(\"Enter the score\"))\n",
    "if score>100 or score<0:\n",
    "    print(\"invalid number\")\n",
    "elif score>=50:\n",
    "    print(\"Congrats, you have passed\")\n",
    "else:\n",
    "    print(\"Sorry, try again\")"
   ]
  },
  {
   "cell_type": "code",
   "execution_count": 29,
   "id": "d6c4c49c",
   "metadata": {},
   "outputs": [
    {
     "name": "stdout",
     "output_type": "stream",
     "text": [
      "b is greater\n"
     ]
    }
   ],
   "source": [
    "a=15\n",
    "b=11\n",
    "c=17\n",
    "if a>=b:\n",
    "    if a>=c:\n",
    "        print(\"a is greater\")\n",
    "    else:\n",
    "        print(\"b is greater\")    \n",
    "else:\n",
    "    print(\"c is greater\")\n",
    "    \n"
   ]
  },
  {
   "cell_type": "code",
   "execution_count": 38,
   "id": "5c855ec2",
   "metadata": {},
   "outputs": [
    {
     "name": "stdout",
     "output_type": "stream",
     "text": [
      "Enter a number90\n",
      "Entered number 90 is even\n"
     ]
    }
   ],
   "source": [
    "#introduction to modulas operator\n",
    "# % is modulus oprerator.\n",
    "#findout the given number is even or odd\n",
    "\n",
    "num=int(input(\"Enter a number\"))\n",
    "if num%2==0:\n",
    "    print(f\"Entered number {num} is even\")\n",
    "else:\n",
    "    print(\"Entered number is Odd\")"
   ]
  },
  {
   "cell_type": "code",
   "execution_count": 39,
   "id": "1fef3c82",
   "metadata": {},
   "outputs": [
    {
     "name": "stdout",
     "output_type": "stream",
     "text": [
      "1\n",
      "2\n",
      "3\n",
      "4\n",
      "5\n"
     ]
    }
   ],
   "source": [
    "# introduction to while loop\n",
    "cur_num=1\n",
    "while cur_num<=5:\n",
    "    print(cur_num)\n",
    "    cur_num+=1\n",
    "    "
   ]
  },
  {
   "cell_type": "code",
   "execution_count": null,
   "id": "bddb9ad1",
   "metadata": {},
   "outputs": [],
   "source": []
  }
 ],
 "metadata": {
  "kernelspec": {
   "display_name": "Python 3",
   "language": "python",
   "name": "python3"
  },
  "language_info": {
   "codemirror_mode": {
    "name": "ipython",
    "version": 3
   },
   "file_extension": ".py",
   "mimetype": "text/x-python",
   "name": "python",
   "nbconvert_exporter": "python",
   "pygments_lexer": "ipython3",
   "version": "3.8.8"
  }
 },
 "nbformat": 4,
 "nbformat_minor": 5
}
